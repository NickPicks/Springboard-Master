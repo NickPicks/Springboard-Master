{
 "cells": [
  {
   "cell_type": "code",
   "execution_count": 1,
   "metadata": {},
   "outputs": [],
   "source": [
    "# Imports\n",
    "import pandas as pd\n",
    "import numpy as np\n",
    "import seaborn as sns\n",
    "from itertools import chain\n"
   ]
  },
  {
   "cell_type": "code",
   "execution_count": 2,
   "metadata": {},
   "outputs": [
    {
     "data": {
      "text/html": [
       "<div>\n",
       "<style scoped>\n",
       "    .dataframe tbody tr th:only-of-type {\n",
       "        vertical-align: middle;\n",
       "    }\n",
       "\n",
       "    .dataframe tbody tr th {\n",
       "        vertical-align: top;\n",
       "    }\n",
       "\n",
       "    .dataframe thead th {\n",
       "        text-align: right;\n",
       "    }\n",
       "</style>\n",
       "<table border=\"1\" class=\"dataframe\">\n",
       "  <thead>\n",
       "    <tr style=\"text-align: right;\">\n",
       "      <th></th>\n",
       "      <th>id</th>\n",
       "      <th>listing_url</th>\n",
       "      <th>scrape_id</th>\n",
       "      <th>last_scraped</th>\n",
       "      <th>name</th>\n",
       "      <th>description</th>\n",
       "      <th>neighborhood_overview</th>\n",
       "      <th>picture_url</th>\n",
       "      <th>host_id</th>\n",
       "      <th>host_url</th>\n",
       "      <th>...</th>\n",
       "      <th>review_scores_communication</th>\n",
       "      <th>review_scores_location</th>\n",
       "      <th>review_scores_value</th>\n",
       "      <th>license</th>\n",
       "      <th>instant_bookable</th>\n",
       "      <th>calculated_host_listings_count</th>\n",
       "      <th>calculated_host_listings_count_entire_homes</th>\n",
       "      <th>calculated_host_listings_count_private_rooms</th>\n",
       "      <th>calculated_host_listings_count_shared_rooms</th>\n",
       "      <th>reviews_per_month</th>\n",
       "    </tr>\n",
       "  </thead>\n",
       "  <tbody>\n",
       "    <tr>\n",
       "      <th>0</th>\n",
       "      <td>177</td>\n",
       "      <td>https://www.airbnb.com/rooms/177</td>\n",
       "      <td>2.021070e+13</td>\n",
       "      <td>7/23/2021</td>\n",
       "      <td>Tiny Home in the Heart of the City- ECO FRIENDLY</td>\n",
       "      <td>160 sq ft + 80 sq ft loft for sleeping, Sleeps...</td>\n",
       "      <td>Quiet neighborhood next to park, creeks and bi...</td>\n",
       "      <td>https://a0.muscache.com/pictures/a1745ab2-b3a0...</td>\n",
       "      <td>615</td>\n",
       "      <td>https://www.airbnb.com/users/show/615</td>\n",
       "      <td>...</td>\n",
       "      <td>4.93</td>\n",
       "      <td>4.83</td>\n",
       "      <td>4.76</td>\n",
       "      <td>2016-BFN-0004968</td>\n",
       "      <td>f</td>\n",
       "      <td>2</td>\n",
       "      <td>2</td>\n",
       "      <td>0</td>\n",
       "      <td>0</td>\n",
       "      <td>1.49</td>\n",
       "    </tr>\n",
       "    <tr>\n",
       "      <th>1</th>\n",
       "      <td>360</td>\n",
       "      <td>https://www.airbnb.com/rooms/360</td>\n",
       "      <td>2.021070e+13</td>\n",
       "      <td>7/23/2021</td>\n",
       "      <td>Sit in the Peaceful Garden of the Chickadee Co...</td>\n",
       "      <td>Enjoy the famous Colorado weather and unplug i...</td>\n",
       "      <td>The cottage is located in the center of Lower ...</td>\n",
       "      <td>https://a0.muscache.com/pictures/monet/Select-...</td>\n",
       "      <td>666</td>\n",
       "      <td>https://www.airbnb.com/users/show/666</td>\n",
       "      <td>...</td>\n",
       "      <td>5.00</td>\n",
       "      <td>5.00</td>\n",
       "      <td>4.91</td>\n",
       "      <td>2017-BFN-0002177</td>\n",
       "      <td>f</td>\n",
       "      <td>2</td>\n",
       "      <td>2</td>\n",
       "      <td>0</td>\n",
       "      <td>0</td>\n",
       "      <td>8.98</td>\n",
       "    </tr>\n",
       "    <tr>\n",
       "      <th>2</th>\n",
       "      <td>364</td>\n",
       "      <td>https://www.airbnb.com/rooms/364</td>\n",
       "      <td>2.021070e+13</td>\n",
       "      <td>7/23/2021</td>\n",
       "      <td>Lodo / RiNo LOFT  via airport train</td>\n",
       "      <td>Modern 1,000 square foot loft in the heart of ...</td>\n",
       "      <td>Ten brewpubs within walking distance, two grea...</td>\n",
       "      <td>https://a0.muscache.com/pictures/11766413/a2c5...</td>\n",
       "      <td>783</td>\n",
       "      <td>https://www.airbnb.com/users/show/783</td>\n",
       "      <td>...</td>\n",
       "      <td>4.96</td>\n",
       "      <td>4.65</td>\n",
       "      <td>4.71</td>\n",
       "      <td>NaN</td>\n",
       "      <td>f</td>\n",
       "      <td>1</td>\n",
       "      <td>1</td>\n",
       "      <td>0</td>\n",
       "      <td>0</td>\n",
       "      <td>0.70</td>\n",
       "    </tr>\n",
       "  </tbody>\n",
       "</table>\n",
       "<p>3 rows × 74 columns</p>\n",
       "</div>"
      ],
      "text/plain": [
       "    id                       listing_url     scrape_id last_scraped  \\\n",
       "0  177  https://www.airbnb.com/rooms/177  2.021070e+13    7/23/2021   \n",
       "1  360  https://www.airbnb.com/rooms/360  2.021070e+13    7/23/2021   \n",
       "2  364  https://www.airbnb.com/rooms/364  2.021070e+13    7/23/2021   \n",
       "\n",
       "                                                name  \\\n",
       "0   Tiny Home in the Heart of the City- ECO FRIENDLY   \n",
       "1  Sit in the Peaceful Garden of the Chickadee Co...   \n",
       "2                Lodo / RiNo LOFT  via airport train   \n",
       "\n",
       "                                         description  \\\n",
       "0  160 sq ft + 80 sq ft loft for sleeping, Sleeps...   \n",
       "1  Enjoy the famous Colorado weather and unplug i...   \n",
       "2  Modern 1,000 square foot loft in the heart of ...   \n",
       "\n",
       "                               neighborhood_overview  \\\n",
       "0  Quiet neighborhood next to park, creeks and bi...   \n",
       "1  The cottage is located in the center of Lower ...   \n",
       "2  Ten brewpubs within walking distance, two grea...   \n",
       "\n",
       "                                         picture_url  host_id  \\\n",
       "0  https://a0.muscache.com/pictures/a1745ab2-b3a0...      615   \n",
       "1  https://a0.muscache.com/pictures/monet/Select-...      666   \n",
       "2  https://a0.muscache.com/pictures/11766413/a2c5...      783   \n",
       "\n",
       "                                host_url  ... review_scores_communication  \\\n",
       "0  https://www.airbnb.com/users/show/615  ...                        4.93   \n",
       "1  https://www.airbnb.com/users/show/666  ...                        5.00   \n",
       "2  https://www.airbnb.com/users/show/783  ...                        4.96   \n",
       "\n",
       "  review_scores_location review_scores_value           license  \\\n",
       "0                   4.83                4.76  2016-BFN-0004968   \n",
       "1                   5.00                4.91  2017-BFN-0002177   \n",
       "2                   4.65                4.71               NaN   \n",
       "\n",
       "  instant_bookable calculated_host_listings_count  \\\n",
       "0                f                              2   \n",
       "1                f                              2   \n",
       "2                f                              1   \n",
       "\n",
       "  calculated_host_listings_count_entire_homes  \\\n",
       "0                                           2   \n",
       "1                                           2   \n",
       "2                                           1   \n",
       "\n",
       "  calculated_host_listings_count_private_rooms  \\\n",
       "0                                            0   \n",
       "1                                            0   \n",
       "2                                            0   \n",
       "\n",
       "  calculated_host_listings_count_shared_rooms reviews_per_month  \n",
       "0                                           0              1.49  \n",
       "1                                           0              8.98  \n",
       "2                                           0              0.70  \n",
       "\n",
       "[3 rows x 74 columns]"
      ]
     },
     "execution_count": 2,
     "metadata": {},
     "output_type": "execute_result"
    }
   ],
   "source": [
    "#Bringing in data\n",
    "denver_listing = \"../raw_data/listings_denver.csv\"\n",
    "raw_data = pd.read_csv(denver_listing)\n",
    "raw_data.head(3)"
   ]
  },
  {
   "cell_type": "code",
   "execution_count": 3,
   "metadata": {},
   "outputs": [
    {
     "data": {
      "text/plain": [
       "Index(['id', 'listing_url', 'scrape_id', 'last_scraped', 'name', 'description',\n",
       "       'neighborhood_overview', 'picture_url', 'host_id', 'host_url',\n",
       "       'host_name', 'host_since', 'host_location', 'host_about',\n",
       "       'host_response_time', 'host_response_rate', 'host_acceptance_rate',\n",
       "       'host_is_superhost', 'host_thumbnail_url', 'host_picture_url',\n",
       "       'host_neighbourhood', 'host_listings_count',\n",
       "       'host_total_listings_count', 'host_verifications',\n",
       "       'host_has_profile_pic', 'host_identity_verified', 'neighbourhood',\n",
       "       'neighbourhood_cleansed', 'neighbourhood_group_cleansed', 'latitude',\n",
       "       'longitude', 'property_type', 'room_type', 'accommodates', 'bathrooms',\n",
       "       'bathrooms_text', 'bedrooms', 'beds', 'amenities', 'price',\n",
       "       'minimum_nights', 'maximum_nights', 'minimum_minimum_nights',\n",
       "       'maximum_minimum_nights', 'minimum_maximum_nights',\n",
       "       'maximum_maximum_nights', 'minimum_nights_avg_ntm',\n",
       "       'maximum_nights_avg_ntm', 'calendar_updated', 'has_availability',\n",
       "       'availability_30', 'availability_60', 'availability_90',\n",
       "       'availability_365', 'calendar_last_scraped', 'number_of_reviews',\n",
       "       'number_of_reviews_ltm', 'number_of_reviews_l30d', 'first_review',\n",
       "       'last_review', 'review_scores_rating', 'review_scores_accuracy',\n",
       "       'review_scores_cleanliness', 'review_scores_checkin',\n",
       "       'review_scores_communication', 'review_scores_location',\n",
       "       'review_scores_value', 'license', 'instant_bookable',\n",
       "       'calculated_host_listings_count',\n",
       "       'calculated_host_listings_count_entire_homes',\n",
       "       'calculated_host_listings_count_private_rooms',\n",
       "       'calculated_host_listings_count_shared_rooms', 'reviews_per_month'],\n",
       "      dtype='object')"
      ]
     },
     "execution_count": 3,
     "metadata": {},
     "output_type": "execute_result"
    }
   ],
   "source": [
    "#Looking to see what columns would be helpful for comparision to a new unlisted property\n",
    "raw_data.columns"
   ]
  },
  {
   "cell_type": "code",
   "execution_count": 4,
   "metadata": {},
   "outputs": [
    {
     "data": {
      "text/html": [
       "<div>\n",
       "<style scoped>\n",
       "    .dataframe tbody tr th:only-of-type {\n",
       "        vertical-align: middle;\n",
       "    }\n",
       "\n",
       "    .dataframe tbody tr th {\n",
       "        vertical-align: top;\n",
       "    }\n",
       "\n",
       "    .dataframe thead th {\n",
       "        text-align: right;\n",
       "    }\n",
       "</style>\n",
       "<table border=\"1\" class=\"dataframe\">\n",
       "  <thead>\n",
       "    <tr style=\"text-align: right;\">\n",
       "      <th></th>\n",
       "      <th>price</th>\n",
       "      <th>property_type</th>\n",
       "      <th>bedrooms</th>\n",
       "      <th>bathrooms_text</th>\n",
       "      <th>beds</th>\n",
       "      <th>neighbourhood_cleansed</th>\n",
       "      <th>amenities</th>\n",
       "    </tr>\n",
       "  </thead>\n",
       "  <tbody>\n",
       "    <tr>\n",
       "      <th>0</th>\n",
       "      <td>$99.00</td>\n",
       "      <td>Entire guesthouse</td>\n",
       "      <td>NaN</td>\n",
       "      <td>1 bath</td>\n",
       "      <td>0.0</td>\n",
       "      <td>Washington Virginia Vale</td>\n",
       "      <td>[\"Patio or balcony\", \"Shampoo\", \"BBQ grill\", \"...</td>\n",
       "    </tr>\n",
       "    <tr>\n",
       "      <th>1</th>\n",
       "      <td>$135.00</td>\n",
       "      <td>Entire guesthouse</td>\n",
       "      <td>2.0</td>\n",
       "      <td>1 bath</td>\n",
       "      <td>2.0</td>\n",
       "      <td>Highland</td>\n",
       "      <td>[\"TV\", \"Fire extinguisher\", \"Heating\", \"Wifi\",...</td>\n",
       "    </tr>\n",
       "    <tr>\n",
       "      <th>2</th>\n",
       "      <td>$179.00</td>\n",
       "      <td>Entire loft</td>\n",
       "      <td>1.0</td>\n",
       "      <td>1.5 baths</td>\n",
       "      <td>1.0</td>\n",
       "      <td>Five Points</td>\n",
       "      <td>[\"Shampoo\", \"Air conditioning\", \"Carbon monoxi...</td>\n",
       "    </tr>\n",
       "    <tr>\n",
       "      <th>3</th>\n",
       "      <td>$55.00</td>\n",
       "      <td>Private room in residential home</td>\n",
       "      <td>1.0</td>\n",
       "      <td>1 shared bath</td>\n",
       "      <td>1.0</td>\n",
       "      <td>North Park Hill</td>\n",
       "      <td>[\"Oven\", \"Patio or balcony\", \"Shampoo\", \"Dishw...</td>\n",
       "    </tr>\n",
       "    <tr>\n",
       "      <th>4</th>\n",
       "      <td>$52.00</td>\n",
       "      <td>Private room in residential home</td>\n",
       "      <td>1.0</td>\n",
       "      <td>1 shared bath</td>\n",
       "      <td>1.0</td>\n",
       "      <td>North Park Hill</td>\n",
       "      <td>[\"Oven\", \"Shampoo\", \"Dishwasher\", \"Air conditi...</td>\n",
       "    </tr>\n",
       "  </tbody>\n",
       "</table>\n",
       "</div>"
      ],
      "text/plain": [
       "      price                     property_type  bedrooms bathrooms_text  beds  \\\n",
       "0   $99.00                  Entire guesthouse       NaN         1 bath   0.0   \n",
       "1  $135.00                  Entire guesthouse       2.0         1 bath   2.0   \n",
       "2  $179.00                        Entire loft       1.0      1.5 baths   1.0   \n",
       "3   $55.00   Private room in residential home       1.0  1 shared bath   1.0   \n",
       "4   $52.00   Private room in residential home       1.0  1 shared bath   1.0   \n",
       "\n",
       "     neighbourhood_cleansed                                          amenities  \n",
       "0  Washington Virginia Vale  [\"Patio or balcony\", \"Shampoo\", \"BBQ grill\", \"...  \n",
       "1                  Highland  [\"TV\", \"Fire extinguisher\", \"Heating\", \"Wifi\",...  \n",
       "2               Five Points  [\"Shampoo\", \"Air conditioning\", \"Carbon monoxi...  \n",
       "3           North Park Hill  [\"Oven\", \"Patio or balcony\", \"Shampoo\", \"Dishw...  \n",
       "4           North Park Hill  [\"Oven\", \"Shampoo\", \"Dishwasher\", \"Air conditi...  "
      ]
     },
     "execution_count": 4,
     "metadata": {},
     "output_type": "execute_result"
    }
   ],
   "source": [
    "#Exploring the data\n",
    "#I will need to extract the array from the amenities to be be able to use that information.\n",
    "data = raw_data[['price','property_type','bedrooms','bathrooms_text', 'beds', 'neighbourhood_cleansed','amenities']]\n",
    "data.head()"
   ]
  },
  {
   "cell_type": "code",
   "execution_count": 5,
   "metadata": {},
   "outputs": [
    {
     "name": "stdout",
     "output_type": "stream",
     "text": [
      "price                      object\n",
      "property_type              object\n",
      "bedrooms                  float64\n",
      "bathrooms_text             object\n",
      "beds                      float64\n",
      "neighbourhood_cleansed     object\n",
      "amenities                  object\n",
      "dtype: object\n",
      "(3697, 7)\n"
     ]
    }
   ],
   "source": [
    "# I will have to price, rooms to numbers\n",
    "print(data.dtypes)\n",
    "print(data.shape)"
   ]
  },
  {
   "cell_type": "code",
   "execution_count": 6,
   "metadata": {},
   "outputs": [
    {
     "name": "stderr",
     "output_type": "stream",
     "text": [
      "<ipython-input-6-1e4935a145ad>:2: SettingWithCopyWarning: \n",
      "A value is trying to be set on a copy of a slice from a DataFrame.\n",
      "Try using .loc[row_indexer,col_indexer] = value instead\n",
      "\n",
      "See the caveats in the documentation: https://pandas.pydata.org/pandas-docs/stable/user_guide/indexing.html#returning-a-view-versus-a-copy\n",
      "  data['price'] = data['price'].str.replace('$', '')\n"
     ]
    }
   ],
   "source": [
    "#cleaning up price column\n",
    "data['price'] = data['price'].str.replace('$', '')"
   ]
  },
  {
   "cell_type": "code",
   "execution_count": 7,
   "metadata": {},
   "outputs": [
    {
     "name": "stderr",
     "output_type": "stream",
     "text": [
      "<ipython-input-7-ecd07f53d261>:1: SettingWithCopyWarning: \n",
      "A value is trying to be set on a copy of a slice from a DataFrame.\n",
      "Try using .loc[row_indexer,col_indexer] = value instead\n",
      "\n",
      "See the caveats in the documentation: https://pandas.pydata.org/pandas-docs/stable/user_guide/indexing.html#returning-a-view-versus-a-copy\n",
      "  data['price'] = pd.to_numeric(data['price'], errors='coerce')\n"
     ]
    }
   ],
   "source": [
    "data['price'] = pd.to_numeric(data['price'], errors='coerce')"
   ]
  },
  {
   "cell_type": "code",
   "execution_count": 8,
   "metadata": {},
   "outputs": [
    {
     "data": {
      "text/plain": [
       "price                      35\n",
       "property_type               0\n",
       "bedrooms                  222\n",
       "bathrooms_text              3\n",
       "beds                      135\n",
       "neighbourhood_cleansed      0\n",
       "amenities                   0\n",
       "dtype: int64"
      ]
     },
     "execution_count": 8,
     "metadata": {},
     "output_type": "execute_result"
    }
   ],
   "source": [
    "#Checking for nan values\n",
    "data.isnull().sum()"
   ]
  },
  {
   "cell_type": "code",
   "execution_count": 9,
   "metadata": {},
   "outputs": [],
   "source": [
    "# clear nan values\n",
    "data = data.dropna()"
   ]
  },
  {
   "cell_type": "code",
   "execution_count": 10,
   "metadata": {},
   "outputs": [
    {
     "name": "stdout",
     "output_type": "stream",
     "text": [
      "price                     0\n",
      "property_type             0\n",
      "bedrooms                  0\n",
      "bathrooms_text            0\n",
      "beds                      0\n",
      "neighbourhood_cleansed    0\n",
      "amenities                 0\n",
      "dtype: int64\n",
      "(3307, 7)\n"
     ]
    }
   ],
   "source": [
    "print(data.isnull().sum())\n",
    "print(data.shape)"
   ]
  },
  {
   "cell_type": "code",
   "execution_count": 11,
   "metadata": {},
   "outputs": [
    {
     "data": {
      "text/plain": [
       "price                     float64\n",
       "property_type              object\n",
       "bedrooms                  float64\n",
       "bathrooms_text             object\n",
       "beds                      float64\n",
       "neighbourhood_cleansed     object\n",
       "amenities                  object\n",
       "dtype: object"
      ]
     },
     "execution_count": 11,
     "metadata": {},
     "output_type": "execute_result"
    }
   ],
   "source": [
    "data.dtypes"
   ]
  },
  {
   "cell_type": "code",
   "execution_count": 12,
   "metadata": {},
   "outputs": [
    {
     "data": {
      "text/plain": [
       "1    [\"TV\", \"Fire extinguisher\", \"Heating\", \"Wifi\",...\n",
       "2    [\"Shampoo\", \"Air conditioning\", \"Carbon monoxi...\n",
       "3    [\"Oven\", \"Patio or balcony\", \"Shampoo\", \"Dishw...\n",
       "4    [\"Oven\", \"Shampoo\", \"Dishwasher\", \"Air conditi...\n",
       "5    [\"Extra pillows and blankets\", \"Oven\", \"Patio ...\n",
       "Name: amenities, dtype: object"
      ]
     },
     "execution_count": 12,
     "metadata": {},
     "output_type": "execute_result"
    }
   ],
   "source": [
    "#time to analyse the amenities column closer\n",
    "data['amenities'].head()"
   ]
  },
  {
   "cell_type": "code",
   "execution_count": 13,
   "metadata": {},
   "outputs": [
    {
     "data": {
      "text/plain": [
       "[\"Oven\", \"Shampoo\", \"Dishwasher\", \"Air conditioning\", \"Dishes and silverware\", \"Dryer\", \"Bed linens\", \"Smoke alarm\", \"TV\", \"Essentials\", \"Hangers\", \"Kitchen\", \"Coffee maker\", \"Dedicated workspace\", \"Iron\", \"Refrigerator\", \"Hair dryer\", \"Elevator\", \"Microwave\", \"Cooking basics\", \"Stove\", \"Lockbox\", \"Heating\", \"Wifi\", \"Long term stays allowed\", \"Washer\"]                                                                                                                                                                                                                                                                                                                                                                                                                                                    22\n",
       "[\"Hot water\", \"Iron\", \"Elevator\", \"Coffee maker\", \"Central heating\", \"Paid valet parking on premises\", \"Single level home\", \"Dryer\", \"Hair dryer\", \"Refrigerator\", \"Oven\", \"Microwave\", \"Shampoo\", \"Security cameras on property\", \"Essentials\", \"First aid kit\", \"TV with standard cable\", \"Smoke alarm\", \"Long term stays allowed\", \"Dishwasher\", \"Washer\", \"Dishes and silverware\", \"Stove\", \"Cooking basics\", \"Carbon monoxide alarm\", \"Hangers\", \"Kitchen\", \"Wifi\", \"Fire extinguisher\", \"Free street parking\", \"Bed linens\", \"Cable TV\", \"Central air conditioning\"]                                                                                                                                                                                                                                            14\n",
       "[\"Shampoo\", \"Air conditioning\", \"Carbon monoxide alarm\", \"Bed linens\", \"Lock on bedroom door\", \"Smoke alarm\", \"Essentials\", \"Mini fridge\", \"Private entrance\", \"Shower gel\", \"Hangers\", \"Coffee maker\", \"Conditioner\", \"Paid parking on premises\", \"Fire extinguisher\", \"Dedicated workspace\", \"Iron\", \"Hair dryer\", \"TV with standard cable\", \"Microwave\", \"Heating\", \"Wifi\", \"Body soap\", \"Gym\", \"First aid kit\", \"Cable TV\"]                                                                                                                                                                                                                                                                                                                                                                                       13\n",
       "[\"Heating\", \"Wifi\", \"Private entrance\", \"Iron\", \"Patio or balcony\", \"Kitchen\", \"Shampoo\", \"Long term stays allowed\", \"Air conditioning\", \"Carbon monoxide alarm\", \"Washer\", \"Refrigerator\", \"Hair dryer\", \"Bathtub\", \"Bed linens\", \"Smoke alarm\", \"TV\", \"Essentials\"]                                                                                                                                                                                                                                                                                                                                                                                                                                                                                                                                                 12\n",
       "[\"Extra pillows and blankets\", \"Oven\", \"Patio or balcony\", \"Shampoo\", \"BBQ grill\", \"Carbon monoxide alarm\", \"Dishes and silverware\", \"Dryer\", \"Hot water\", \"Bed linens\", \"Smoke alarm\", \"TV\", \"Essentials\", \"Private entrance\", \"Shower gel\", \"Hangers\", \"Kitchen\", \"Coffee maker\", \"Dedicated workspace\", \"Iron\", \"Refrigerator\", \"Hair dryer\", \"Microwave\", \"Cooking basics\", \"Stove\", \"Lockbox\", \"Wifi\", \"Gym\", \"Pool\", \"Long term stays allowed\", \"Washer\"]                                                                                                                                                                                                                                                                                                                                                        9\n",
       "                                                                                                                                                                                                                                                                                                                                                                                                                                                                                                                                                                                                                                                                                                                                                                                                                      ..\n",
       "[\"Oven\", \"Patio or balcony\", \"BBQ grill\", \"Dishwasher\", \"Air conditioning\", \"Carbon monoxide alarm\", \"Dishes and silverware\", \"Dryer\", \"Hot water\", \"Host greets you\", \"Bed linens\", \"Lock on bedroom door\", \"Smoke alarm\", \"Security cameras on property\", \"Essentials\", \"Private entrance\", \"Hangers\", \"Kitchen\", \"Coffee maker\", \"Free parking on premises\", \"Fire extinguisher\", \"Dedicated workspace\", \"Iron\", \"Refrigerator\", \"Elevator\", \"Microwave\", \"Cooking basics\", \"Stove\", \"Heating\", \"Wifi\", \"Pool\", \"Long term stays allowed\", \"Washer\", \"First aid kit\"]                                                                                                                                                                                                                                               1\n",
       "[\"Patio or balcony\", \"Shampoo\", \"BBQ grill\", \"Air conditioning\", \"Carbon monoxide alarm\", \"Dryer\", \"Hot water\", \"Smoke alarm\", \"TV\", \"Backyard\", \"Essentials\", \"Hangers\", \"Kitchen\", \"Free parking on premises\", \"Dedicated workspace\", \"Fire pit\", \"Hair dryer\", \"Microwave\", \"Cooking basics\", \"Lockbox\", \"Heating\", \"Wifi\", \"Gym\", \"Long term stays allowed\", \"Washer\", \"First aid kit\", \"Outdoor furniture\"]                                                                                                                                                                                                                                                                                                                                                                                                       1\n",
       "[\"Wine glasses\", \"Clothing storage\", \"Extra pillows and blankets\", \"Oven\", \"Shampoo\", \"Dishwasher\", \"Carbon monoxide alarm\", \"Toaster\", \"Dishes and silverware\", \"Dryer\", \"Hot water\", \"Bed linens\", \"Smoke alarm\", \"Essentials\", \"Freezer\", \"Private entrance\", \"Hangers\", \"Kitchen\", \"Coffee maker\", \"Free parking on premises\", \"Conditioner\", \"Cleaning products\", \"Fire extinguisher\", \"Dedicated workspace\", \"Iron\", \"Free street parking\", \"Refrigerator\", \"Hair dryer\", \"Bathtub\", \"TV with standard cable\", \"Microwave\", \"Cooking basics\", \"Stove\", \"Lockbox\", \"Indoor fireplace\", \"Heating\", \"Wifi\", \"Body soap\", \"Keurig coffee machine\", \"Washer\", \"First aid kit\", \"Cable TV\", \"Dining table\", \"Baking sheet\"]                                                                                            1\n",
       "[\"Hot water\", \"Iron\", \"Backyard\", \"Coffee maker\", \"Dryer\", \"Heating\", \"Dedicated workspace\", \"Hair dryer\", \"Refrigerator\", \"Luggage dropoff allowed\", \"Oven\", \"Shampoo\", \"Patio or balcony\", \"Essentials\", \"Lockbox\", \"First aid kit\", \"Smoke alarm\", \"Long term stays allowed\", \"Dishwasher\", \"Washer\", \"Dishes and silverware\", \"Stove\", \"Cooking basics\", \"Carbon monoxide alarm\", \"Free parking on premises\", \"Hangers\", \"Kitchen\", \"Wifi\", \"Fire extinguisher\", \"Free street parking\", \"Air conditioning\"]                                                                                                                                                                                                                                                                                                        1\n",
       "[\"Indoor fireplace\", \"Hot water\", \"Iron\", \"Backyard\", \"Cable TV\", \"Babysitter recommendations\", \"Coffee maker\", \"Dryer\", \"Heating\", \"Dedicated workspace\", \"Hair dryer\", \"Refrigerator\", \"Oven\", \"Microwave\", \"Shampoo\", \"Security cameras on property\", \"Essentials\", \"Patio or balcony\", \"Lockbox\", \"First aid kit\", \"TV with standard cable\", \"Smoke alarm\", \"Long term stays allowed\", \"Dishwasher\", \"Game console\", \"Bathtub\", \"Washer\", \"Pack \\u2019n Play/travel crib\", \"Dishes and silverware\", \"Stove\", \"Cooking basics\", \"Private entrance\", \"Carbon monoxide alarm\", \"Free parking on premises\", \"Hangers\", \"Extra pillows and blankets\", \"Kitchen\", \"Wifi\", \"Outlet covers\", \"Fire extinguisher\", \"Free street parking\", \"Bed linens\", \"Children\\u2019s dinnerware\", \"Children\\u2019s books and toys\"]     1\n",
       "Name: amenities, Length: 3096, dtype: int64"
      ]
     },
     "execution_count": 13,
     "metadata": {},
     "output_type": "execute_result"
    }
   ],
   "source": [
    "#the row is not view as a list in this data frame\n",
    "data['amenities'].value_counts()"
   ]
  },
  {
   "cell_type": "code",
   "execution_count": 14,
   "metadata": {},
   "outputs": [],
   "source": [
    "data['amenities'] = data['amenities'].apply(eval)"
   ]
  },
  {
   "cell_type": "code",
   "execution_count": 15,
   "metadata": {},
   "outputs": [],
   "source": [
    "def to_1D(series):\n",
    " return pd.Series([x for _list in series for x in _list])"
   ]
  },
  {
   "cell_type": "code",
   "execution_count": 16,
   "metadata": {},
   "outputs": [
    {
     "data": {
      "text/plain": [
       "Smoke alarm                                               3257\n",
       "Essentials                                                3182\n",
       "Wifi                                                      3165\n",
       "Carbon monoxide alarm                                     3151\n",
       "Hangers                                                   3010\n",
       "                                                          ... \n",
       "Bosch Stainless Steel Single Oven stainless steel oven       1\n",
       "generic conditioner                                          1\n",
       "Olay, Suave, Tresemme body soap                              1\n",
       "Electric burner stove                                        1\n",
       "GE Gas Range oven                                            1\n",
       "Length: 882, dtype: int64"
      ]
     },
     "execution_count": 16,
     "metadata": {},
     "output_type": "execute_result"
    }
   ],
   "source": [
    "#now a list can be extracted to create multiple columns for later comparison\n",
    "to_1D(data['amenities']).value_counts()"
   ]
  },
  {
   "cell_type": "code",
   "execution_count": 17,
   "metadata": {},
   "outputs": [],
   "source": [
    "a1 = to_1D(data['amenities']).unique().tolist()"
   ]
  },
  {
   "cell_type": "code",
   "execution_count": 18,
   "metadata": {},
   "outputs": [
    {
     "name": "stdout",
     "output_type": "stream",
     "text": [
      "882\n"
     ]
    }
   ],
   "source": [
    "#I have a sorted list of all amminetes now that I can generate individual columns have a lot of repeated and similar values. \n",
    "print(len(a1))"
   ]
  },
  {
   "cell_type": "code",
   "execution_count": 19,
   "metadata": {},
   "outputs": [
    {
     "data": {
      "text/plain": [
       "['TV',\n",
       " 'Fire extinguisher',\n",
       " 'Heating',\n",
       " 'Wifi',\n",
       " 'Smoke alarm',\n",
       " 'Shared hot tub',\n",
       " 'Iron',\n",
       " 'Free street parking',\n",
       " 'Coffee maker',\n",
       " 'Full kitchen']"
      ]
     },
     "execution_count": 19,
     "metadata": {},
     "output_type": "execute_result"
    }
   ],
   "source": [
    "# Now I have a list of all avalible amenities\n",
    "a1[:10]"
   ]
  },
  {
   "cell_type": "code",
   "execution_count": 20,
   "metadata": {},
   "outputs": [
    {
     "data": {
      "text/plain": [
       "dtype('O')"
      ]
     },
     "execution_count": 20,
     "metadata": {},
     "output_type": "execute_result"
    }
   ],
   "source": [
    "data['amenities'].dtypes"
   ]
  },
  {
   "cell_type": "code",
   "execution_count": 21,
   "metadata": {},
   "outputs": [],
   "source": [
    "amenities = pd.DataFrame(data['amenities'].tolist())"
   ]
  },
  {
   "cell_type": "code",
   "execution_count": 22,
   "metadata": {},
   "outputs": [
    {
     "data": {
      "text/html": [
       "<div>\n",
       "<style scoped>\n",
       "    .dataframe tbody tr th:only-of-type {\n",
       "        vertical-align: middle;\n",
       "    }\n",
       "\n",
       "    .dataframe tbody tr th {\n",
       "        vertical-align: top;\n",
       "    }\n",
       "\n",
       "    .dataframe thead th {\n",
       "        text-align: right;\n",
       "    }\n",
       "</style>\n",
       "<table border=\"1\" class=\"dataframe\">\n",
       "  <thead>\n",
       "    <tr style=\"text-align: right;\">\n",
       "      <th></th>\n",
       "      <th>0</th>\n",
       "      <th>1</th>\n",
       "      <th>2</th>\n",
       "      <th>3</th>\n",
       "      <th>4</th>\n",
       "      <th>5</th>\n",
       "      <th>6</th>\n",
       "      <th>7</th>\n",
       "      <th>8</th>\n",
       "      <th>9</th>\n",
       "      <th>...</th>\n",
       "      <th>63</th>\n",
       "      <th>64</th>\n",
       "      <th>65</th>\n",
       "      <th>66</th>\n",
       "      <th>67</th>\n",
       "      <th>68</th>\n",
       "      <th>69</th>\n",
       "      <th>70</th>\n",
       "      <th>71</th>\n",
       "      <th>72</th>\n",
       "    </tr>\n",
       "  </thead>\n",
       "  <tbody>\n",
       "    <tr>\n",
       "      <th>0</th>\n",
       "      <td>TV</td>\n",
       "      <td>Fire extinguisher</td>\n",
       "      <td>Heating</td>\n",
       "      <td>Wifi</td>\n",
       "      <td>Smoke alarm</td>\n",
       "      <td>Shared hot tub</td>\n",
       "      <td>Iron</td>\n",
       "      <td>Free street parking</td>\n",
       "      <td>Coffee maker</td>\n",
       "      <td>Full kitchen</td>\n",
       "      <td>...</td>\n",
       "      <td>None</td>\n",
       "      <td>None</td>\n",
       "      <td>None</td>\n",
       "      <td>None</td>\n",
       "      <td>None</td>\n",
       "      <td>None</td>\n",
       "      <td>None</td>\n",
       "      <td>None</td>\n",
       "      <td>None</td>\n",
       "      <td>None</td>\n",
       "    </tr>\n",
       "    <tr>\n",
       "      <th>1</th>\n",
       "      <td>Shampoo</td>\n",
       "      <td>Air conditioning</td>\n",
       "      <td>Carbon monoxide alarm</td>\n",
       "      <td>Dryer</td>\n",
       "      <td>Smoke alarm</td>\n",
       "      <td>Essentials</td>\n",
       "      <td>Hangers</td>\n",
       "      <td>Kitchen</td>\n",
       "      <td>Free parking on premises</td>\n",
       "      <td>Breakfast</td>\n",
       "      <td>...</td>\n",
       "      <td>None</td>\n",
       "      <td>None</td>\n",
       "      <td>None</td>\n",
       "      <td>None</td>\n",
       "      <td>None</td>\n",
       "      <td>None</td>\n",
       "      <td>None</td>\n",
       "      <td>None</td>\n",
       "      <td>None</td>\n",
       "      <td>None</td>\n",
       "    </tr>\n",
       "    <tr>\n",
       "      <th>2</th>\n",
       "      <td>Oven</td>\n",
       "      <td>Patio or balcony</td>\n",
       "      <td>Shampoo</td>\n",
       "      <td>Dishwasher</td>\n",
       "      <td>Carbon monoxide alarm</td>\n",
       "      <td>BBQ grill</td>\n",
       "      <td>Dishes and silverware</td>\n",
       "      <td>Dryer</td>\n",
       "      <td>Hot water</td>\n",
       "      <td>Smoke alarm</td>\n",
       "      <td>...</td>\n",
       "      <td>None</td>\n",
       "      <td>None</td>\n",
       "      <td>None</td>\n",
       "      <td>None</td>\n",
       "      <td>None</td>\n",
       "      <td>None</td>\n",
       "      <td>None</td>\n",
       "      <td>None</td>\n",
       "      <td>None</td>\n",
       "      <td>None</td>\n",
       "    </tr>\n",
       "    <tr>\n",
       "      <th>3</th>\n",
       "      <td>Oven</td>\n",
       "      <td>Shampoo</td>\n",
       "      <td>Dishwasher</td>\n",
       "      <td>Air conditioning</td>\n",
       "      <td>Carbon monoxide alarm</td>\n",
       "      <td>Dishes and silverware</td>\n",
       "      <td>Dryer</td>\n",
       "      <td>Hot water</td>\n",
       "      <td>Lock on bedroom door</td>\n",
       "      <td>Smoke alarm</td>\n",
       "      <td>...</td>\n",
       "      <td>None</td>\n",
       "      <td>None</td>\n",
       "      <td>None</td>\n",
       "      <td>None</td>\n",
       "      <td>None</td>\n",
       "      <td>None</td>\n",
       "      <td>None</td>\n",
       "      <td>None</td>\n",
       "      <td>None</td>\n",
       "      <td>None</td>\n",
       "    </tr>\n",
       "    <tr>\n",
       "      <th>4</th>\n",
       "      <td>Extra pillows and blankets</td>\n",
       "      <td>Oven</td>\n",
       "      <td>Patio or balcony</td>\n",
       "      <td>Shampoo</td>\n",
       "      <td>Dishwasher</td>\n",
       "      <td>Air conditioning</td>\n",
       "      <td>Carbon monoxide alarm</td>\n",
       "      <td>Dishes and silverware</td>\n",
       "      <td>Dryer</td>\n",
       "      <td>Hot water</td>\n",
       "      <td>...</td>\n",
       "      <td>None</td>\n",
       "      <td>None</td>\n",
       "      <td>None</td>\n",
       "      <td>None</td>\n",
       "      <td>None</td>\n",
       "      <td>None</td>\n",
       "      <td>None</td>\n",
       "      <td>None</td>\n",
       "      <td>None</td>\n",
       "      <td>None</td>\n",
       "    </tr>\n",
       "  </tbody>\n",
       "</table>\n",
       "<p>5 rows × 73 columns</p>\n",
       "</div>"
      ],
      "text/plain": [
       "                           0                  1                      2   \\\n",
       "0                          TV  Fire extinguisher                Heating   \n",
       "1                     Shampoo   Air conditioning  Carbon monoxide alarm   \n",
       "2                        Oven   Patio or balcony                Shampoo   \n",
       "3                        Oven            Shampoo             Dishwasher   \n",
       "4  Extra pillows and blankets               Oven       Patio or balcony   \n",
       "\n",
       "                 3                      4                      5   \\\n",
       "0              Wifi            Smoke alarm         Shared hot tub   \n",
       "1             Dryer            Smoke alarm             Essentials   \n",
       "2        Dishwasher  Carbon monoxide alarm              BBQ grill   \n",
       "3  Air conditioning  Carbon monoxide alarm  Dishes and silverware   \n",
       "4           Shampoo             Dishwasher       Air conditioning   \n",
       "\n",
       "                      6                      7                         8   \\\n",
       "0                   Iron    Free street parking              Coffee maker   \n",
       "1                Hangers                Kitchen  Free parking on premises   \n",
       "2  Dishes and silverware                  Dryer                 Hot water   \n",
       "3                  Dryer              Hot water      Lock on bedroom door   \n",
       "4  Carbon monoxide alarm  Dishes and silverware                     Dryer   \n",
       "\n",
       "             9   ...    63    64    65    66    67    68    69    70    71  \\\n",
       "0  Full kitchen  ...  None  None  None  None  None  None  None  None  None   \n",
       "1     Breakfast  ...  None  None  None  None  None  None  None  None  None   \n",
       "2   Smoke alarm  ...  None  None  None  None  None  None  None  None  None   \n",
       "3   Smoke alarm  ...  None  None  None  None  None  None  None  None  None   \n",
       "4     Hot water  ...  None  None  None  None  None  None  None  None  None   \n",
       "\n",
       "     72  \n",
       "0  None  \n",
       "1  None  \n",
       "2  None  \n",
       "3  None  \n",
       "4  None  \n",
       "\n",
       "[5 rows x 73 columns]"
      ]
     },
     "execution_count": 22,
     "metadata": {},
     "output_type": "execute_result"
    }
   ],
   "source": [
    "amenities.head()"
   ]
  },
  {
   "cell_type": "code",
   "execution_count": 23,
   "metadata": {},
   "outputs": [],
   "source": [
    "amenities.index = amenities.index + 1"
   ]
  },
  {
   "cell_type": "code",
   "execution_count": 24,
   "metadata": {},
   "outputs": [
    {
     "data": {
      "text/html": [
       "<div>\n",
       "<style scoped>\n",
       "    .dataframe tbody tr th:only-of-type {\n",
       "        vertical-align: middle;\n",
       "    }\n",
       "\n",
       "    .dataframe tbody tr th {\n",
       "        vertical-align: top;\n",
       "    }\n",
       "\n",
       "    .dataframe thead th {\n",
       "        text-align: right;\n",
       "    }\n",
       "</style>\n",
       "<table border=\"1\" class=\"dataframe\">\n",
       "  <thead>\n",
       "    <tr style=\"text-align: right;\">\n",
       "      <th></th>\n",
       "      <th>0</th>\n",
       "      <th>1</th>\n",
       "      <th>2</th>\n",
       "      <th>3</th>\n",
       "      <th>4</th>\n",
       "      <th>5</th>\n",
       "      <th>6</th>\n",
       "      <th>7</th>\n",
       "      <th>8</th>\n",
       "      <th>9</th>\n",
       "      <th>...</th>\n",
       "      <th>63</th>\n",
       "      <th>64</th>\n",
       "      <th>65</th>\n",
       "      <th>66</th>\n",
       "      <th>67</th>\n",
       "      <th>68</th>\n",
       "      <th>69</th>\n",
       "      <th>70</th>\n",
       "      <th>71</th>\n",
       "      <th>72</th>\n",
       "    </tr>\n",
       "  </thead>\n",
       "  <tbody>\n",
       "    <tr>\n",
       "      <th>1</th>\n",
       "      <td>TV</td>\n",
       "      <td>Fire extinguisher</td>\n",
       "      <td>Heating</td>\n",
       "      <td>Wifi</td>\n",
       "      <td>Smoke alarm</td>\n",
       "      <td>Shared hot tub</td>\n",
       "      <td>Iron</td>\n",
       "      <td>Free street parking</td>\n",
       "      <td>Coffee maker</td>\n",
       "      <td>Full kitchen</td>\n",
       "      <td>...</td>\n",
       "      <td>None</td>\n",
       "      <td>None</td>\n",
       "      <td>None</td>\n",
       "      <td>None</td>\n",
       "      <td>None</td>\n",
       "      <td>None</td>\n",
       "      <td>None</td>\n",
       "      <td>None</td>\n",
       "      <td>None</td>\n",
       "      <td>None</td>\n",
       "    </tr>\n",
       "    <tr>\n",
       "      <th>2</th>\n",
       "      <td>Shampoo</td>\n",
       "      <td>Air conditioning</td>\n",
       "      <td>Carbon monoxide alarm</td>\n",
       "      <td>Dryer</td>\n",
       "      <td>Smoke alarm</td>\n",
       "      <td>Essentials</td>\n",
       "      <td>Hangers</td>\n",
       "      <td>Kitchen</td>\n",
       "      <td>Free parking on premises</td>\n",
       "      <td>Breakfast</td>\n",
       "      <td>...</td>\n",
       "      <td>None</td>\n",
       "      <td>None</td>\n",
       "      <td>None</td>\n",
       "      <td>None</td>\n",
       "      <td>None</td>\n",
       "      <td>None</td>\n",
       "      <td>None</td>\n",
       "      <td>None</td>\n",
       "      <td>None</td>\n",
       "      <td>None</td>\n",
       "    </tr>\n",
       "    <tr>\n",
       "      <th>3</th>\n",
       "      <td>Oven</td>\n",
       "      <td>Patio or balcony</td>\n",
       "      <td>Shampoo</td>\n",
       "      <td>Dishwasher</td>\n",
       "      <td>Carbon monoxide alarm</td>\n",
       "      <td>BBQ grill</td>\n",
       "      <td>Dishes and silverware</td>\n",
       "      <td>Dryer</td>\n",
       "      <td>Hot water</td>\n",
       "      <td>Smoke alarm</td>\n",
       "      <td>...</td>\n",
       "      <td>None</td>\n",
       "      <td>None</td>\n",
       "      <td>None</td>\n",
       "      <td>None</td>\n",
       "      <td>None</td>\n",
       "      <td>None</td>\n",
       "      <td>None</td>\n",
       "      <td>None</td>\n",
       "      <td>None</td>\n",
       "      <td>None</td>\n",
       "    </tr>\n",
       "    <tr>\n",
       "      <th>4</th>\n",
       "      <td>Oven</td>\n",
       "      <td>Shampoo</td>\n",
       "      <td>Dishwasher</td>\n",
       "      <td>Air conditioning</td>\n",
       "      <td>Carbon monoxide alarm</td>\n",
       "      <td>Dishes and silverware</td>\n",
       "      <td>Dryer</td>\n",
       "      <td>Hot water</td>\n",
       "      <td>Lock on bedroom door</td>\n",
       "      <td>Smoke alarm</td>\n",
       "      <td>...</td>\n",
       "      <td>None</td>\n",
       "      <td>None</td>\n",
       "      <td>None</td>\n",
       "      <td>None</td>\n",
       "      <td>None</td>\n",
       "      <td>None</td>\n",
       "      <td>None</td>\n",
       "      <td>None</td>\n",
       "      <td>None</td>\n",
       "      <td>None</td>\n",
       "    </tr>\n",
       "    <tr>\n",
       "      <th>5</th>\n",
       "      <td>Extra pillows and blankets</td>\n",
       "      <td>Oven</td>\n",
       "      <td>Patio or balcony</td>\n",
       "      <td>Shampoo</td>\n",
       "      <td>Dishwasher</td>\n",
       "      <td>Air conditioning</td>\n",
       "      <td>Carbon monoxide alarm</td>\n",
       "      <td>Dishes and silverware</td>\n",
       "      <td>Dryer</td>\n",
       "      <td>Hot water</td>\n",
       "      <td>...</td>\n",
       "      <td>None</td>\n",
       "      <td>None</td>\n",
       "      <td>None</td>\n",
       "      <td>None</td>\n",
       "      <td>None</td>\n",
       "      <td>None</td>\n",
       "      <td>None</td>\n",
       "      <td>None</td>\n",
       "      <td>None</td>\n",
       "      <td>None</td>\n",
       "    </tr>\n",
       "  </tbody>\n",
       "</table>\n",
       "<p>5 rows × 73 columns</p>\n",
       "</div>"
      ],
      "text/plain": [
       "                           0                  1                      2   \\\n",
       "1                          TV  Fire extinguisher                Heating   \n",
       "2                     Shampoo   Air conditioning  Carbon monoxide alarm   \n",
       "3                        Oven   Patio or balcony                Shampoo   \n",
       "4                        Oven            Shampoo             Dishwasher   \n",
       "5  Extra pillows and blankets               Oven       Patio or balcony   \n",
       "\n",
       "                 3                      4                      5   \\\n",
       "1              Wifi            Smoke alarm         Shared hot tub   \n",
       "2             Dryer            Smoke alarm             Essentials   \n",
       "3        Dishwasher  Carbon monoxide alarm              BBQ grill   \n",
       "4  Air conditioning  Carbon monoxide alarm  Dishes and silverware   \n",
       "5           Shampoo             Dishwasher       Air conditioning   \n",
       "\n",
       "                      6                      7                         8   \\\n",
       "1                   Iron    Free street parking              Coffee maker   \n",
       "2                Hangers                Kitchen  Free parking on premises   \n",
       "3  Dishes and silverware                  Dryer                 Hot water   \n",
       "4                  Dryer              Hot water      Lock on bedroom door   \n",
       "5  Carbon monoxide alarm  Dishes and silverware                     Dryer   \n",
       "\n",
       "             9   ...    63    64    65    66    67    68    69    70    71  \\\n",
       "1  Full kitchen  ...  None  None  None  None  None  None  None  None  None   \n",
       "2     Breakfast  ...  None  None  None  None  None  None  None  None  None   \n",
       "3   Smoke alarm  ...  None  None  None  None  None  None  None  None  None   \n",
       "4   Smoke alarm  ...  None  None  None  None  None  None  None  None  None   \n",
       "5     Hot water  ...  None  None  None  None  None  None  None  None  None   \n",
       "\n",
       "     72  \n",
       "1  None  \n",
       "2  None  \n",
       "3  None  \n",
       "4  None  \n",
       "5  None  \n",
       "\n",
       "[5 rows x 73 columns]"
      ]
     },
     "execution_count": 24,
     "metadata": {},
     "output_type": "execute_result"
    }
   ],
   "source": [
    "amenities.head()"
   ]
  },
  {
   "cell_type": "code",
   "execution_count": 25,
   "metadata": {},
   "outputs": [
    {
     "data": {
      "text/plain": [
       "array(['Highland', 'Five Points', 'North Park Hill', 'North Capitol Hill',\n",
       "       'West Highland', 'Capitol Hill', 'Overland', 'South Park Hill',\n",
       "       'CBD', 'Washington Park', 'Union Station', 'Washington Park West',\n",
       "       'Baker', 'City Park West', 'Clayton', 'Stapleton', 'Platt Park',\n",
       "       'Lowry Field', 'Sunnyside', 'Congress Park', 'Goldsmith',\n",
       "       'Berkeley', 'Lincoln Park', 'Cole', 'Cheesman Park', 'Speer',\n",
       "       'University', 'West Colfax', 'Sloan Lake', 'Hilltop',\n",
       "       'Country Club', 'Cory - Merrill', 'City Park', 'Athmar Park',\n",
       "       'Washington Virginia Vale', 'Gateway - Green Valley Ranch',\n",
       "       'Rosedale', 'Whittier', 'Fort Logan', 'Skyland', 'Windsor', 'Hale',\n",
       "       'Cherry Creek', 'Harvey Park', 'Ruby Hill', 'Hampden South',\n",
       "       'Civic Center', 'Jefferson Park', 'Montclair', 'Harvey Park South',\n",
       "       'Regis', 'University Park', 'Hampden', 'Barnum West',\n",
       "       'Virginia Village', 'Barnum', 'University Hills',\n",
       "       'Northeast Park Hill', 'East Colfax', 'Villa Park', 'Chaffee Park',\n",
       "       'Belcaro', 'Indian Creek', 'Globeville', 'Montbello', 'DIA',\n",
       "       'Mar Lee', 'Westwood', 'Bear Valley', 'Valverde',\n",
       "       'College View - South Platte', 'Elyria Swansea', 'Kennedy',\n",
       "       'Marston', 'Wellshire', 'Southmoor Park', 'Auraria'], dtype=object)"
      ]
     },
     "execution_count": 25,
     "metadata": {},
     "output_type": "execute_result"
    }
   ],
   "source": [
    "#Exploring the neighourhood vs price\n",
    "data['neighbourhood_cleansed'].unique()"
   ]
  },
  {
   "cell_type": "code",
   "execution_count": 26,
   "metadata": {},
   "outputs": [],
   "source": [
    "area_price = data.groupby('neighbourhood_cleansed', as_index=False)['price'].mean()"
   ]
  },
  {
   "cell_type": "code",
   "execution_count": 27,
   "metadata": {},
   "outputs": [
    {
     "data": {
      "text/html": [
       "<div>\n",
       "<style scoped>\n",
       "    .dataframe tbody tr th:only-of-type {\n",
       "        vertical-align: middle;\n",
       "    }\n",
       "\n",
       "    .dataframe tbody tr th {\n",
       "        vertical-align: top;\n",
       "    }\n",
       "\n",
       "    .dataframe thead th {\n",
       "        text-align: right;\n",
       "    }\n",
       "</style>\n",
       "<table border=\"1\" class=\"dataframe\">\n",
       "  <thead>\n",
       "    <tr style=\"text-align: right;\">\n",
       "      <th></th>\n",
       "      <th>neighbourhood_cleansed</th>\n",
       "      <th>price</th>\n",
       "    </tr>\n",
       "  </thead>\n",
       "  <tbody>\n",
       "    <tr>\n",
       "      <th>44</th>\n",
       "      <td>Montbello</td>\n",
       "      <td>68.909091</td>\n",
       "    </tr>\n",
       "    <tr>\n",
       "      <th>34</th>\n",
       "      <td>Harvey Park South</td>\n",
       "      <td>73.000000</td>\n",
       "    </tr>\n",
       "    <tr>\n",
       "      <th>39</th>\n",
       "      <td>Kennedy</td>\n",
       "      <td>78.333333</td>\n",
       "    </tr>\n",
       "    <tr>\n",
       "      <th>18</th>\n",
       "      <td>College View - South Platte</td>\n",
       "      <td>79.000000</td>\n",
       "    </tr>\n",
       "    <tr>\n",
       "      <th>26</th>\n",
       "      <td>Fort Logan</td>\n",
       "      <td>82.500000</td>\n",
       "    </tr>\n",
       "    <tr>\n",
       "      <th>...</th>\n",
       "      <td>...</td>\n",
       "      <td>...</td>\n",
       "    </tr>\n",
       "    <tr>\n",
       "      <th>72</th>\n",
       "      <td>West Colfax</td>\n",
       "      <td>231.428571</td>\n",
       "    </tr>\n",
       "    <tr>\n",
       "      <th>6</th>\n",
       "      <td>Belcaro</td>\n",
       "      <td>232.250000</td>\n",
       "    </tr>\n",
       "    <tr>\n",
       "      <th>21</th>\n",
       "      <td>Country Club</td>\n",
       "      <td>267.454545</td>\n",
       "    </tr>\n",
       "    <tr>\n",
       "      <th>15</th>\n",
       "      <td>Civic Center</td>\n",
       "      <td>311.600000</td>\n",
       "    </tr>\n",
       "    <tr>\n",
       "      <th>5</th>\n",
       "      <td>Bear Valley</td>\n",
       "      <td>360.000000</td>\n",
       "    </tr>\n",
       "  </tbody>\n",
       "</table>\n",
       "<p>77 rows × 2 columns</p>\n",
       "</div>"
      ],
      "text/plain": [
       "         neighbourhood_cleansed       price\n",
       "44                    Montbello   68.909091\n",
       "34            Harvey Park South   73.000000\n",
       "39                      Kennedy   78.333333\n",
       "18  College View - South Platte   79.000000\n",
       "26                   Fort Logan   82.500000\n",
       "..                          ...         ...\n",
       "72                  West Colfax  231.428571\n",
       "6                       Belcaro  232.250000\n",
       "21                 Country Club  267.454545\n",
       "15                 Civic Center  311.600000\n",
       "5                   Bear Valley  360.000000\n",
       "\n",
       "[77 rows x 2 columns]"
      ]
     },
     "execution_count": 27,
     "metadata": {},
     "output_type": "execute_result"
    }
   ],
   "source": [
    " area_price.sort_values(by='price') "
   ]
  },
  {
   "cell_type": "code",
   "execution_count": null,
   "metadata": {},
   "outputs": [],
   "source": []
  },
  {
   "cell_type": "code",
   "execution_count": null,
   "metadata": {},
   "outputs": [],
   "source": []
  },
  {
   "cell_type": "code",
   "execution_count": 28,
   "metadata": {},
   "outputs": [
    {
     "data": {
      "text/plain": [
       "array(['1 bath', '1.5 baths', '1 shared bath', '1 private bath',\n",
       "       '4 baths', '2.5 baths', '1.5 shared baths', '2 baths', '3.5 baths',\n",
       "       '3 baths', '4.5 baths', 'Shared half-bath', '5 baths',\n",
       "       '2 shared baths', '17 baths', '2.5 shared baths', '4 shared baths',\n",
       "       '0 baths', '0 shared baths'], dtype=object)"
      ]
     },
     "execution_count": 28,
     "metadata": {},
     "output_type": "execute_result"
    }
   ],
   "source": [
    "#Giving a numerical value to shared or no shared bathroom\n",
    "data['bathrooms_text'].unique()"
   ]
  },
  {
   "cell_type": "code",
   "execution_count": 29,
   "metadata": {},
   "outputs": [],
   "source": [
    "# Removing non numerical charcaters from bathrooms_text and replacing the empty values\n",
    "data['bathrooms_text'] = data['bathrooms_text'].map(lambda x: ''.join([i for i in x if i.isdigit() or i =='.']))"
   ]
  },
  {
   "cell_type": "code",
   "execution_count": 30,
   "metadata": {},
   "outputs": [],
   "source": [
    "data['bathrooms_text'] = data['bathrooms_text'].replace('', 0)"
   ]
  },
  {
   "cell_type": "code",
   "execution_count": 31,
   "metadata": {},
   "outputs": [
    {
     "data": {
      "text/plain": [
       "array(['1', '1.5', '4', '2.5', '2', '3.5', '3', '4.5', 0, '5', '17', '0'],\n",
       "      dtype=object)"
      ]
     },
     "execution_count": 31,
     "metadata": {},
     "output_type": "execute_result"
    }
   ],
   "source": [
    "data['bathrooms_text'].unique()"
   ]
  },
  {
   "cell_type": "code",
   "execution_count": 32,
   "metadata": {},
   "outputs": [],
   "source": [
    "#Converting column type into float type to retain half bathrooms\n",
    "data['bathrooms_text'] = data['bathrooms_text'].astype('float')"
   ]
  },
  {
   "cell_type": "code",
   "execution_count": 33,
   "metadata": {},
   "outputs": [
    {
     "data": {
      "text/plain": [
       "price                     float64\n",
       "property_type              object\n",
       "bedrooms                  float64\n",
       "bathrooms_text            float64\n",
       "beds                      float64\n",
       "neighbourhood_cleansed     object\n",
       "amenities                  object\n",
       "dtype: object"
      ]
     },
     "execution_count": 33,
     "metadata": {},
     "output_type": "execute_result"
    }
   ],
   "source": [
    "data.dtypes"
   ]
  },
  {
   "cell_type": "code",
   "execution_count": 34,
   "metadata": {},
   "outputs": [],
   "source": [
    "# Droping ammenites for now as I'm sorta lost on how to apply this to the df at this time\n",
    "clean_data = data.drop(['amenities'], axis=1)"
   ]
  },
  {
   "cell_type": "code",
   "execution_count": 35,
   "metadata": {},
   "outputs": [
    {
     "data": {
      "text/plain": [
       "(3307, 6)"
      ]
     },
     "execution_count": 35,
     "metadata": {},
     "output_type": "execute_result"
    }
   ],
   "source": [
    "clean_data.shape"
   ]
  },
  {
   "cell_type": "code",
   "execution_count": 40,
   "metadata": {},
   "outputs": [],
   "source": [
    "# Saving cleaned data.\n",
    "clean_data.to_csv(r'..\\data\\clean_data.csv', index = True)"
   ]
  },
  {
   "cell_type": "code",
   "execution_count": 41,
   "metadata": {},
   "outputs": [],
   "source": [
    "# Save amenities separately for now.\n",
    "clean_data.to_csv(r'..\\data\\amenites.csv', index = True)"
   ]
  },
  {
   "cell_type": "code",
   "execution_count": null,
   "metadata": {},
   "outputs": [],
   "source": []
  },
  {
   "cell_type": "code",
   "execution_count": 43,
   "metadata": {},
   "outputs": [],
   "source": [
    "df_neigh = pd.get_dummies(clean_data)"
   ]
  },
  {
   "cell_type": "code",
   "execution_count": 46,
   "metadata": {},
   "outputs": [
    {
     "data": {
      "text/plain": [
       "(3307, 119)"
      ]
     },
     "execution_count": 46,
     "metadata": {},
     "output_type": "execute_result"
    }
   ],
   "source": [
    "df_neigh.shape"
   ]
  },
  {
   "cell_type": "code",
   "execution_count": null,
   "metadata": {},
   "outputs": [],
   "source": []
  }
 ],
 "metadata": {
  "kernelspec": {
   "display_name": "Python 3",
   "language": "python",
   "name": "python3"
  },
  "language_info": {
   "codemirror_mode": {
    "name": "ipython",
    "version": 3
   },
   "file_extension": ".py",
   "mimetype": "text/x-python",
   "name": "python",
   "nbconvert_exporter": "python",
   "pygments_lexer": "ipython3",
   "version": "3.8.5"
  }
 },
 "nbformat": 4,
 "nbformat_minor": 4
}
